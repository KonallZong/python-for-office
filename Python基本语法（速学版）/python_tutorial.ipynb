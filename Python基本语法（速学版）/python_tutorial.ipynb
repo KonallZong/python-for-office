{
 "cells": [
  {
   "source": [
    "# Chapter 1: Python的第一段代码\n",
    "\n",
    "类似于C语言有printf(\"Hello world\\n\")\n",
    "\n",
    "C++有cout << \"Hello world\" << endl\n",
    "\n",
    "Java有System.out.println(\"Hello world\")\n",
    "\n",
    "## Python也有个类似的，于是拿来做导入"
   ],
   "cell_type": "markdown",
   "metadata": {}
  },
  {
   "cell_type": "code",
   "execution_count": 5,
   "metadata": {},
   "outputs": [
    {
     "output_type": "stream",
     "name": "stdout",
     "text": [
      "Hello world\n10086\n"
     ]
    }
   ],
   "source": [
    "# python用来做控制台输出的函数\n",
    "print(\"Hello world\")\n",
    "# 输出一个数值类型（整型或者浮点数型）\n",
    "print(10086)"
   ]
  },
  {
   "source": [
    "``By the way``\n",
    "\n",
    "* 默认情况下，print()函数**自带换行**"
   ],
   "cell_type": "markdown",
   "metadata": {}
  },
  {
   "source": [
    "## 格式化字符串输出\n",
    "\n",
    "下面看一个类似于C语言中printf(\"第%d个C语言程序\", a)形式用法\n",
    "\n",
    "操作格式化字符串的用法挺多，记这一个最灵活的就可以了，记多了人晕了"
   ],
   "cell_type": "markdown",
   "metadata": {}
  },
  {
   "cell_type": "code",
   "execution_count": 3,
   "metadata": {},
   "outputs": [
    {
     "output_type": "stream",
     "name": "stdout",
     "text": [
      "第1个Python程序\n第2个Python程序\n"
     ]
    }
   ],
   "source": [
    "# 输出格式化字符串\n",
    "a = 1\n",
    "print(f\"第{a}个Python程序\")\n",
    "b = 2\n",
    "print(f\"第{b}个Python程序\")"
   ]
  },
  {
   "source": [
    "## ``第1章完``\n",
    "\n",
    "***"
   ],
   "cell_type": "markdown",
   "metadata": {}
  },
  {
   "source": [
    "\n",
    "****\n",
    "\n",
    "# Chapter 2: 基本数据类型及运算符\n",
    "\n",
    "Python就几种基本数据类型：整型int，浮点数float，字符串str（连字符的概念都没有）\n",
    "\n",
    "看几个例子就会了，你会发现python甚至连类型声明都不用"
   ],
   "cell_type": "markdown",
   "metadata": {}
  },
  {
   "source": [
    "# 整型\n",
    "a = 1\n",
    "# 浮点型\n",
    "b = 6.666\n",
    "# 字符串\n",
    "s = \"字符串\"\n",
    "\n",
    "# 输出试一下\n",
    "print(a)\n",
    "print(b)\n",
    "print(s)"
   ],
   "cell_type": "code",
   "metadata": {},
   "execution_count": 1,
   "outputs": [
    {
     "output_type": "stream",
     "name": "stdout",
     "text": [
      "1\n6.666\n字符串\n"
     ]
    }
   ]
  },
  {
   "source": [
    "## 再来看几个运算符\n",
    "\n",
    "加减乘除还用说嘛？这不是哪个语言都一样"
   ],
   "cell_type": "markdown",
   "metadata": {}
  },
  {
   "cell_type": "code",
   "execution_count": 7,
   "metadata": {},
   "outputs": [
    {
     "output_type": "stream",
     "name": "stdout",
     "text": [
      "5\n-1.5\n16.799999999999997\n0.9554140127388535\n"
     ]
    }
   ],
   "source": [
    "# 加减乘除\n",
    "print(2 + 3)\n",
    "print(4.2 - 5.7)\n",
    "print(6 * 2.8)\n",
    "print(3 / 3.14)"
   ]
  },
  {
   "source": [
    "## 说点不一样的\n",
    "\n",
    "* 乘方（2个乘号，a**b含义是a的b次方）\n",
    "\n",
    "* 一口气给多个变量赋值的操作\n",
    "\n",
    "* in运算符\n",
    "\n",
    "* type函数\n",
    "\n",
    "* None"
   ],
   "cell_type": "markdown",
   "metadata": {}
  },
  {
   "cell_type": "code",
   "execution_count": 8,
   "metadata": {},
   "outputs": [
    {
     "output_type": "execute_result",
     "data": {
      "text/plain": [
       "27"
      ]
     },
     "metadata": {},
     "execution_count": 8
    }
   ],
   "source": [
    "# 乘方\n",
    "3 ** 3"
   ]
  },
  {
   "cell_type": "code",
   "execution_count": 10,
   "metadata": {},
   "outputs": [
    {
     "output_type": "stream",
     "name": "stdout",
     "text": [
      "6, type: <class 'int'>\n六, type: <class 'str'>\n0.66, type: <class 'float'>\n"
     ]
    }
   ],
   "source": [
    "# 多变量赋值 and type函数\n",
    "p1, p2, p3 = 6, \"六\", 0.66\n",
    "print(f\"{p1}, type: {type(p1)}\")\n",
    "print(f\"{p2}, type: {type(p2)}\")\n",
    "print(f\"{p3}, type: {type(p3)}\")"
   ]
  },
  {
   "cell_type": "code",
   "execution_count": null,
   "metadata": {},
   "outputs": [],
   "source": []
  }
 ],
 "metadata": {
  "kernelspec": {
   "name": "python3",
   "display_name": "Python 3.8.7 64-bit ('venv')",
   "metadata": {
    "interpreter": {
     "hash": "9854b75040cba107f74f3e1f4c950c2972cf91d699516ca93fd083c8333e4581"
    }
   }
  },
  "language_info": {
   "codemirror_mode": {
    "name": "ipython",
    "version": 2
   },
   "file_extension": ".py",
   "mimetype": "text/x-python",
   "name": "python",
   "nbconvert_exporter": "python",
   "pygments_lexer": "ipython2",
   "version": "3.8.7-final"
  }
 },
 "nbformat": 4,
 "nbformat_minor": 0
}