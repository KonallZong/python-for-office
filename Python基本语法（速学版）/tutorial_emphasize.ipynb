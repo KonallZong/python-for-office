{
 "cells": [
  {
   "cell_type": "markdown",
   "metadata": {},
   "source": [
    "# Python基础语法中，一些需要在这里强调的点\n",
    "\n",
    "******\n",
    "\n",
    "## 1 从列表中按条件提取一些元素（常用操作）\n",
    "\n",
    "格式：``[something.func() for something in list if condition]``\n",
    "\n",
    "说明：\n",
    "\n",
    "* 表示从list中取出something，满足condition条件的something会加进新的列表中\n",
    "\n",
    "* 第一个something.func()是**最终要被添加进新列表的“东西”**\n",
    "\n",
    "* func()是something自身也可以调用一些自己的一些专用函数，把自己**微调**一下再加进新列表\n",
    "\n",
    "* func()不是必须的，如果你不需要的话，直接拿something也问题不大\n",
    "\n",
    "* if语句不是随时都有，但是可以对list做一些**更严格的筛选限定**\n",
    "\n",
    "类比一下SQL语句的语法：\n",
    "\n",
    "``select something from list where condition``\n",
    "\n",
    "**还是有亿点相似的**"
   ]
  },
  {
   "cell_type": "markdown",
   "metadata": {},
   "source": [
    "> 举例1：从下列字符串的班级中，提取所有19级的学生姓名"
   ]
  },
  {
   "cell_type": "code",
   "execution_count": 1,
   "metadata": {
    "pycharm": {
     "name": "#%%\n"
    }
   },
   "outputs": [
    {
     "name": "stdout",
     "output_type": "stream",
     "text": [
      "['软件1901', '软件1902', '软件1903', '大数据1901', '大数据1902', '人工智能1901', '人工智能1902', '计算机1901', '计算机1902', '计算机1903', '计算机1904']\n"
     ]
    }
   ],
   "source": [
    "studentClasses = [\"软件1801\", \"软件1901\", \"软件1902\", \"软件1903\", \"大数据1901\", \"大数据1902\",\n",
    "                  \"人工智能1901\", \"人工智能1902\", \"计算机1901\", \"计算机1902\", \"计算机1903\",\n",
    "                  \"计算机1904\", \"计算机类m2001\", \"计算机类m2002\", \"计算机类y2001\", \"计算机类y2002\",\n",
    "                  \"计算机类y2003\", \"计算机类y2004\", \"计算机类y2005\", \"计算机类y2006\", \"计算机类y2007\",\n",
    "                  \"计算机类y2008\"]\n",
    "\n",
    "# 注意看操作\n",
    "# resultClasses = [something for something in studentClasses if \"19\" in something]\n",
    "resultClasses = [something for something in studentClasses if \"19\" in something]\n",
    "\n",
    "# 查看结果\n",
    "print(resultClasses)"
   ]
  },
  {
   "cell_type": "markdown",
   "metadata": {},
   "source": [
    "> 举例2：把下面列表中的文件名的后缀全部统一成小写"
   ]
  },
  {
   "cell_type": "code",
   "execution_count": 23,
   "metadata": {},
   "outputs": [
    {
     "name": "stdout",
     "output_type": "stream",
     "text": [
      "['瞎取的名字.jpg', '软件1801-杜文添-实验1.docx', '子网划分.pptx', '计算机学院易班成员名单表.xlsx', '学习资料.avi', '旁边的那个文件你是来搞笑的吗.pdf', '生而为人，我很傲娇.mp4', '不带后缀名的可能是个文件夹']\n"
     ]
    }
   ],
   "source": [
    "fileList = [\"瞎取的名字.JPG\", \"软件1801-杜文添-实验1.docx\", \"子网划分.Pptx\", \"计算机学院易班成员名单表.XLSX\", \n",
    "            \"学习资料.avi\", \"旁边的那个文件你是来搞笑的吗.PDF\", \"生而为人，我很傲娇.mp4\", \"不带后缀名的可能是个文件夹\"]\n",
    "\n",
    "# 注意看操作\n",
    "# resultFileList = [something.lower() for something in fileList]\n",
    "resultFileList = [something.lower() for something in fileList]\n",
    "# 查看一下结果\n",
    "print(resultFileList)"
   ]
  },
  {
   "cell_type": "markdown",
   "metadata": {},
   "source": [
    "这个操作中，``something``是我随便取的变量名，随后使用``for something ...``来对其进行各种条件限制\n",
    "\n",
    "Python语言里面对于列表这种操作也是比较常见的，要逐渐习惯它......\n",
    "\n",
    "**为了习惯它，我们一起来做亿点点练习叭~**"
   ]
  },
  {
   "cell_type": "markdown",
   "metadata": {},
   "source": [
    "> 练习1：将下列姓名的首字母全部改成大写\n",
    "\n",
    "```python\n",
    "nameList = [\"bilibili\", \"yangcan\", \"liangyao\", \"yiban\", \"ganjiazhi\", \"cst计算机\",\n",
    "            \"mabizheng\", \"Michael\", \"duwentian\", \"QiuZiqian\", \"gaoweiqiang\"]\n",
    "\n",
    "# 在此处输入你的代码\n",
    "resultNameList = \n",
    "```"
   ]
  },
  {
   "cell_type": "code",
   "execution_count": 25,
   "metadata": {},
   "outputs": [
    {
     "name": "stdout",
     "output_type": "stream",
     "text": [
      "['Bilibili', 'Yangcan', 'Liangyao', 'Yiban', 'Ganjiazhi', 'Cst计算机', 'Mabizheng', 'Michael', 'Duwentian', 'Qiuziqian', 'Gaoweiqiang']\n"
     ]
    }
   ],
   "source": [
    "nameList = [\"bilibili\", \"yangcan\", \"liangyao\", \"yiban\", \"ganjiazhi\", \"cst计算机\",\n",
    "            \"mabizheng\", \"Michael\", \"duwentian\", \"QiuZiqian\", \"gaoweiqiang\"]\n",
    "\n",
    "# 在此处输入你的代码\n",
    "resultNameList = \n",
    "\n",
    "# 输出结果\n",
    "print(resultNameList)"
   ]
  },
  {
   "cell_type": "code",
   "execution_count": null,
   "metadata": {},
   "outputs": [],
   "source": [
    "# 参考答案\n",
    "resultNameList = [name.title() for name in nameList]"
   ]
  },
  {
   "cell_type": "markdown",
   "metadata": {},
   "source": [
    "> 练习2：将下列计算机学院的英文名首字母全部转为大写再输出\n",
    "\n",
    "```python\n",
    "academy = \"computer science technology\"\n",
    "# 目标输出：\"Computer Science Technology\"\n",
    "\n",
    "# 提示1：总得先拆成列表吧（回想一下“拆分”的英文是什么？）\n",
    "list_academy =\n",
    "\n",
    "# 提示2：然后再对列表一顿操作猛如虎\n",
    "list_academy = \n",
    "\n",
    "# 提示3：然后再把列表重新拼成一个字符串（回想一下“连接”的英文是什么？）\n",
    "academy = \n",
    "```"
   ]
  },
  {
   "cell_type": "code",
   "execution_count": 26,
   "metadata": {},
   "outputs": [
    {
     "name": "stdout",
     "output_type": "stream",
     "text": [
      "Computer Science Technology\n"
     ]
    }
   ],
   "source": [
    "academy = \"computer science technology\"\n",
    "# 目标输出：\"Computer Science Technology\"\n",
    "\n",
    "# 在此输入你的代码\n",
    "list_academy = \n",
    "\n",
    "list_academy = \n",
    "\n",
    "academy = \n",
    "\n",
    "# 输出转变后的结果\n",
    "print(academy)"
   ]
  },
  {
   "cell_type": "code",
   "execution_count": null,
   "metadata": {},
   "outputs": [],
   "source": [
    "# 参考答案\n",
    "list_academy = academy.split(\" \")\n",
    "list_academy = [word.title() for word in list_academy]\n",
    "academy = \" \".join(list_academy)"
   ]
  },
  {
   "cell_type": "markdown",
   "metadata": {},
   "source": [
    "> 练习3：将下面绩点低于2的学生的姓名全部输出\n",
    "\n",
    "```python\n",
    "gpaDict = {\n",
    "    \"学生A\": 4.4,\n",
    "    \"学生B\": 3.9,\n",
    "    \"学生C\": 0.8,\n",
    "    \"学生D\": 5.1,\n",
    "    \"学生E\": 2.259,\n",
    "    \"学生F\": 4.0,\n",
    "    \"学生G\": 1.44,\n",
    "    \"学生H\": 4.14,\n",
    "    \"学生I\": 1.747\n",
    "}\n",
    "\n",
    "# 在此补全你的代码\n",
    "resultNames = \n",
    "```"
   ]
  },
  {
   "cell_type": "code",
   "execution_count": null,
   "metadata": {},
   "outputs": [],
   "source": [
    "gpaDict = {\n",
    "    \"学生A\": 4.4,\n",
    "    \"学生B\": 3.9,\n",
    "    \"学生C\": 0.8,\n",
    "    \"学生D\": 5.1,\n",
    "    \"学生E\": 2.259,\n",
    "    \"学生F\": 4.0,\n",
    "    \"学生G\": 1.44,\n",
    "    \"学生H\": 4.14,\n",
    "    \"学生I\": 1.747\n",
    "}\n",
    "\n",
    "# 在此补全你的代码\n",
    "resultNames = \n",
    "# 输出结果\n",
    "print(resultNames)"
   ]
  },
  {
   "cell_type": "code",
   "execution_count": null,
   "metadata": {},
   "outputs": [],
   "source": [
    "# 方法1\n",
    "# resultNames = [gpaItem[0] for gpaItem in gpaDict.items() if gpaItem[1] < 2]\n",
    "# 方法2\n",
    "resultNames = [name for name, gpa in gpaDict.items() if gpa < 2]\n",
    "\n",
    "# 输出结果\n",
    "print(resultNames)"
   ]
  },
  {
   "cell_type": "markdown",
   "metadata": {},
   "source": [
    "列表中做筛选在后面按照条件筛选表格中数据的时候可能会经常用到。\n",
    "\n",
    "***\n",
    "\n",
    "## 2 列表+enumerate()函数"
   ]
  },
  {
   "cell_type": "markdown",
   "metadata": {},
   "source": [
    "**先来看一下enumerate()函数怎么用**\n",
    "\n",
    "格式：``\n",
    "for index, listElem in enumerate(listName)  # listName是一个列表类型，或者可以用来遍历的类型都可以作为该函数传入的参数\n",
    "``\n",
    "\n",
    "函数的功效：使用for循环扫描一个列表/元组/字典中的一些内容，**但又迫切需要知道扫描到的每个元素所在下标**"
   ]
  },
  {
   "cell_type": "markdown",
   "metadata": {},
   "source": [
    "看下面的这段代码，比较一下，同样是for循环，采用enumerate函数有什么区别\n",
    "\n",
    "> 举例1：不带enumerate函数"
   ]
  },
  {
   "cell_type": "code",
   "execution_count": 27,
   "metadata": {},
   "outputs": [
    {
     "name": "stdout",
     "output_type": "stream",
     "text": [
      "Spring\n",
      "Summer\n",
      "Fall\n",
      "Winter\n"
     ]
    }
   ],
   "source": [
    "seasons = ['Spring', 'Summer', 'Fall', 'Winter']\n",
    "\n",
    "# 不带enumerate函数\n",
    "for season in seasons:\n",
    "    print(season)"
   ]
  },
  {
   "cell_type": "markdown",
   "metadata": {},
   "source": [
    "> 举例2：带了enumerate函数，**默认是从0开始的下标**"
   ]
  },
  {
   "cell_type": "code",
   "execution_count": 28,
   "metadata": {},
   "outputs": [
    {
     "name": "stdout",
     "output_type": "stream",
     "text": [
      "0 Spring\n",
      "1 Summer\n",
      "2 Fall\n",
      "3 Winter\n"
     ]
    }
   ],
   "source": [
    "seasons = ['Spring', 'Summer', 'Fall', 'Winter']\n",
    "\n",
    "# 带了enumerate函数\n",
    "for index, season in enumerate(seasons):\n",
    "    print(index, season)"
   ]
  },
  {
   "cell_type": "code",
   "execution_count": 10,
   "metadata": {},
   "outputs": [
    {
     "name": "stdout",
     "output_type": "stream",
     "text": [
      "(0, 'Spring')\n",
      "(1, 'Summer')\n",
      "(2, 'Fall')\n",
      "(3, 'Winter')\n"
     ]
    }
   ],
   "source": [
    "# 带了enumerate函数，其实每个元素是一个元组\n",
    "for seasonTuple in enumerate(seasons):\n",
    "    print(seasonTuple)"
   ]
  },
  {
   "cell_type": "markdown",
   "metadata": {},
   "source": [
    "> 举例3：带了enumerate函数，**指定要从1开始的下标**\n",
    "\n",
    "这个时候要用到``start``这个参数来指定"
   ]
  },
  {
   "cell_type": "code",
   "execution_count": 31,
   "metadata": {},
   "outputs": [
    {
     "name": "stdout",
     "output_type": "stream",
     "text": [
      "1 Ox\n",
      "2 Tiger\n",
      "3 Rabbit\n",
      "4 Dragon\n",
      "5 Snake\n",
      "6 Horse\n",
      "7 Sheep\n",
      "8 Monkey\n",
      "9 Rooster\n",
      "10 Dog\n",
      "11 Pig\n"
     ]
    }
   ],
   "source": [
    "# zodiac：十二生肖\n",
    "zodiac = [\"Rat\", \"Ox\", \"Tiger\", \"Rabbit\", \"Dragon\", \"Snake\",\n",
    "          \"Horse\", \"Sheep\", \"Monkey\", \"Rooster\", \"Dog\", \"Pig\"]\n",
    "\n",
    "# 指定开始下标（假设为1）的枚举\n",
    "for index, animal in enumerate(zodiac[1:], start=1):\n",
    "    print(index, animal)"
   ]
  },
  {
   "cell_type": "markdown",
   "metadata": {},
   "source": [
    "**都看这么久了，做几个练习吧**\n",
    "\n",
    "> 练习1：遍历3~6月（March to June）的英文组成的列表，输出内容的格式为f\"{monthIndex}月的英文是{month}\"\n",
    "\n",
    "* 提示：enumerate()函数 + 列表“切片”操作 + 字符串的格式化输出\n",
    "\n",
    "* 注意下标！！！\n",
    "\n",
    "几个东西一起顺带来回顾一下。\n",
    "\n",
    "```python\n",
    "months = [\"January\", \"February\", \"March\", \"April\", \"May\", \"June\",\n",
    "          \"July\", \"August\", \"September\", \"October\", \"November\", \"December\"]\n",
    "```"
   ]
  },
  {
   "cell_type": "code",
   "execution_count": 35,
   "metadata": {},
   "outputs": [
    {
     "name": "stdout",
     "output_type": "stream",
     "text": [
      "3月的英文是March\n",
      "4月的英文是April\n",
      "5月的英文是May\n",
      "6月的英文是June\n"
     ]
    }
   ],
   "source": [
    "months = [\"January\", \"February\", \"March\", \"April\", \"May\", \"June\",\n",
    "          \"July\", \"August\", \"September\", \"October\", \"November\", \"December\"]\n",
    "\n",
    "# 在此填写你的代码（只遍历3~6月）\n"
   ]
  },
  {
   "cell_type": "code",
   "execution_count": 13,
   "metadata": {},
   "outputs": [
    {
     "name": "stdout",
     "output_type": "stream",
     "text": [
      "3月的英文是March\n",
      "4月的英文是April\n",
      "5月的英文是May\n",
      "6月的英文是June\n"
     ]
    }
   ],
   "source": [
    "# 参考答案\n",
    "for monthIndex, month in enumerate(months[2:6], start=3):\n",
    "    print(f\"{monthIndex}月的英文是{month}\")"
   ]
  },
  {
   "cell_type": "markdown",
   "metadata": {},
   "source": [
    "**再次强调：切片的时候注意下标，下标是从0开始的**"
   ]
  },
  {
   "cell_type": "markdown",
   "metadata": {},
   "source": [
    "enumerate()函数在后面的Excel读写和Word读写上可能经常会派上用场。"
   ]
  },
  {
   "cell_type": "markdown",
   "metadata": {},
   "source": [
    "***\n",
    "\n",
    "## 3 自定义排序规则的sort()函数\n",
    "\n",
    "``sort(key=None, reverse=False)``函数功能：对一个乱序的列表进行排序\n",
    "\n",
    "**参数列表**\n",
    "\n",
    "* reverse: 指按照顺序排还是逆序排，默认False顺序排（即从小到大），为True的时候是从大到小逆序排\n",
    "\n",
    "* key: 指排序规则，通常按照默认规则。**如果传入一个函数名，则按照函数自定义的规则进行排序**\n",
    "\n",
    "> 举例1：将字符和数值混为一坛的列表进行排序，还要让结果按照数值的顺序排序"
   ]
  },
  {
   "cell_type": "code",
   "execution_count": 38,
   "metadata": {},
   "outputs": [
    {
     "name": "stdout",
     "output_type": "stream",
     "text": [
      "[1, 2, 3, 4, 5, 6]\n"
     ]
    }
   ],
   "source": [
    "shuffledList = [2, 6, 1, 4, 5, 3]\n",
    "shuffledList.sort()\n",
    "print(shuffledList)"
   ]
  },
  {
   "cell_type": "code",
   "execution_count": 39,
   "metadata": {},
   "outputs": [
    {
     "name": "stdout",
     "output_type": "stream",
     "text": [
      "[1, 2, 3, '4', '5', 6]\n"
     ]
    }
   ],
   "source": [
    "shuffledList = [2, 6, 1, \"4\", \"5\", 3]\n",
    "\n",
    "# 一般情况的排序\n",
    "# int(element)\n",
    "# [2, 6, 1, 4, 5, 3]\n",
    "shuffledList.sort(key=int)\n",
    "print(shuffledList)\n",
    "\n",
    "# 不采用key设置排序规则会报错，因为整型和字符串不能比较\n",
    "# shuffledList.sort()"
   ]
  },
  {
   "cell_type": "markdown",
   "metadata": {},
   "source": [
    "### 注意\n",
    "\n",
    "**这里的key传入的是一个函数的名字，这里的int其实不是类型的意思，而是int()函数。**\n",
    "\n",
    "``shuffledList.sort(key=int)``这句话执行的过程中，发生了如下几件事情。\n",
    "\n",
    "* ``shuffledList``中每一个元素（假设取名``element``）均传入``int(element)``中，做了一次强制转换。这个过程中，字符串元素被转化为整型\n",
    "\n",
    "* ``sort()``在执行排序的时候，实际上是针对全部被转化成整型的元素来进行的排序\n",
    "\n",
    "* 排序执行完成后，函数会将原来字符串类型的元素从整型还原成字符串\n",
    "\n",
    "上面三步过后，得到的结果就是字符串和数值混在一起，却按照数值的排序规则排序得到的结果。"
   ]
  },
  {
   "cell_type": "markdown",
   "metadata": {},
   "source": [
    "> 举例2：给一些固定格式的“编号-班级-姓名.docx”“编号-班级-姓名.pdf”“编号-班级-姓名.pptx”等这样的一些文件名按照编号排序\n",
    "\n",
    "**自定义排序的规则函数传给参数key，灵活地切换**\n",
    "\n",
    "### 规则1：无规则\n",
    "\n",
    "排序结果：一团浆糊......（地铁，老爷爷，手机.jpg）"
   ]
  },
  {
   "cell_type": "code",
   "execution_count": 40,
   "metadata": {},
   "outputs": [
    {
     "name": "stdout",
     "output_type": "stream",
     "text": [
      "['1-软件1801-杜文添.docx', '12-软件1802-吴奎.pdf', '15-软件1803-陈源坤.docx', '2-人工智能1902-孙奥.pdf', '21-软件1903-杨灿.docx', '22-大数据2001-高孝强.doc', '3-软件1801-刘子川.doc', '34-计算机1904-裘子乾.pdf', '4-软件1802-岑涛.pdf', '5-软件1804-金宇.doc', '7-计算机1902-高伟强.docx']\n"
     ]
    }
   ],
   "source": [
    "fileList = [\n",
    "    \"3-软件1801-刘子川.doc\",\n",
    "    \"1-软件1801-杜文添.docx\",\n",
    "    \"12-软件1802-吴奎.pdf\",\n",
    "    \"4-软件1802-岑涛.pdf\",\n",
    "    \"21-软件1903-杨灿.docx\",\n",
    "    \"22-大数据2001-高孝强.doc\",\n",
    "    \"7-计算机1902-高伟强.docx\",\n",
    "    \"15-软件1803-陈源坤.docx\",\n",
    "    \"2-人工智能1902-孙奥.pdf\",\n",
    "    \"34-计算机1904-裘子乾.pdf\",\n",
    "    \"5-软件1804-金宇.doc\"\n",
    "]\n",
    "fileList.sort()\n",
    "print(fileList)"
   ]
  },
  {
   "cell_type": "markdown",
   "metadata": {},
   "source": [
    "### 规则2：按照编号顺序进行排序\n",
    "\n",
    "以这个规则为例，注意学习规则定义的方法"
   ]
  },
  {
   "cell_type": "code",
   "execution_count": 41,
   "metadata": {},
   "outputs": [
    {
     "name": "stdout",
     "output_type": "stream",
     "text": [
      "['1-软件1801-杜文添.docx', '2-人工智能1902-孙奥.pdf', '3-软件1801-刘子川.doc', '4-软件1802-岑涛.pdf', '5-软件1804-金宇.doc', '7-计算机1902-高伟强.docx', '12-软件1802-吴奎.pdf', '15-软件1803-陈源坤.docx', '21-软件1903-杨灿.docx', '22-大数据2001-高孝强.doc', '34-计算机1904-裘子乾.pdf']\n"
     ]
    }
   ],
   "source": [
    "fileList = [\n",
    "    \"3-软件1801-刘子川.doc\",\n",
    "    \"1-软件1801-杜文添.docx\",\n",
    "    \"12-软件1802-吴奎.pdf\",\n",
    "    \"4-软件1802-岑涛.pdf\",\n",
    "    \"21-软件1903-杨灿.docx\",\n",
    "    \"22-大数据2001-高孝强.doc\",\n",
    "    \"7-计算机1902-高伟强.docx\",\n",
    "    \"15-软件1803-陈源坤.docx\",\n",
    "    \"2-人工智能1902-孙奥.pdf\",\n",
    "    \"34-计算机1904-裘子乾.pdf\",\n",
    "    \"5-软件1804-金宇.doc\"\n",
    "]\n",
    "\n",
    "\n",
    "# 自定义排序规则\n",
    "def rule_number(item: str):\n",
    "    '''\n",
    "    @param item: 传入参数表示列表中的某一个元素，比如现在的item可能时列表中的\"1-软件1801-杜文添.docx\"\n",
    "    @return int: 返回从这个元素中提取出来的编号（3，1，12，4，21这之类的啊）\n",
    "    '''\n",
    "    # 不妨设：这是对\"1-软件1801-杜文添.docx\"这个字符串做拆分，把\"1\"拆出来\n",
    "    # 能够理解下面代码的意思吗？它是把拆分split和选择[0]号元素两步动作合成到了一块\n",
    "    # [\"1\", \"软件1801\", \"杜文添.docx\"]\n",
    "    number = item.split(\"-\")[0]\n",
    "    # number == \"1\"\n",
    "    \n",
    "    # 这个时候number还是字符串的\"1\"，要转为整数再返回\n",
    "    return int(number)\n",
    "\n",
    "\n",
    "# 执行排序，注意key只收函数名，函数名不带()！！！\n",
    "fileList.sort(key=rule_number)\n",
    "\n",
    "# 输出查看结果\n",
    "print(fileList)"
   ]
  },
  {
   "cell_type": "markdown",
   "metadata": {},
   "source": [
    "> 规则3：按照班级顺序降序排序"
   ]
  },
  {
   "cell_type": "code",
   "execution_count": 3,
   "metadata": {},
   "outputs": [
    {
     "name": "stdout",
     "output_type": "stream",
     "text": [
      "['21-软件1903-马必争.docx', '5-软件1804-金宇.doc', '15-软件1803-陈源坤.docx', '12-软件1802-吴奎.pdf', '4-软件1802-岑涛.pdf', '3-软件1801-刘子川.doc', '1-软件1801-杜文添.docx', '9-软件1701-刘浩.docx', '34-计算机1904-裘子乾.pdf', '7-计算机1902-高伟强.docx', '22-大数据2001-高孝强.doc', '14-大数据1902-梁垚.doc', '15-人工智能2001-罗越.docx', '2-人工智能1902-孙奥.pdf']\n"
     ]
    }
   ],
   "source": [
    "fileList = [\n",
    "    \"3-软件1801-刘子川.doc\",\n",
    "    \"1-软件1801-杜文添.docx\",\n",
    "    \"12-软件1802-吴奎.pdf\",\n",
    "    \"4-软件1802-岑涛.pdf\",\n",
    "    \"21-软件1903-马必争.docx\",\n",
    "    \"22-大数据2001-高孝强.doc\",\n",
    "    \"7-计算机1902-高伟强.docx\",\n",
    "    \"15-软件1803-陈源坤.docx\",\n",
    "    \"2-人工智能1902-孙奥.pdf\",\n",
    "    \"34-计算机1904-裘子乾.pdf\",\n",
    "    \"5-软件1804-金宇.doc\",\n",
    "    \"9-软件1701-刘浩.docx\",\n",
    "    \"14-大数据1902-梁垚.doc\",\n",
    "    \"15-人工智能2001-罗越.docx\"\n",
    "]\n",
    "\n",
    "\n",
    "# 自定义排序规则\n",
    "def rule_class(item: str):\n",
    "    # 分离出“班级”\n",
    "    className = item.split(\"-\")[1]\n",
    "    return className\n",
    "\n",
    "\n",
    "# 执行排序（注意要求是倒序哦，要设置reverse参数）\n",
    "fileList.sort(key=rule_class, reverse=True)\n",
    "\n",
    "# 查看结果\n",
    "print(fileList)"
   ]
  },
  {
   "cell_type": "markdown",
   "metadata": {},
   "source": [
    "> 练习：按照文档类型（也就是文件名\".xxxx\"标识的东西）进行降序排序\n",
    "\n",
    "```python\n",
    "fileList = [\n",
    "    \"3-软件1801-刘子川.doc\",\n",
    "    \"1-软件1801-杜文添.docx\",\n",
    "    \"12-软件1802-吴奎.pdf\",\n",
    "    \"4-软件1802-岑涛.pdf\",\n",
    "    \"21-软件1903-马必争.docx\",\n",
    "    \"22-大数据2001-高孝强.doc\",\n",
    "    \"7-计算机1902-高伟强.docx\",\n",
    "    \"15-软件1803-陈源坤.docx\",\n",
    "    \"2-人工智能1902-孙奥.pdf\",\n",
    "    \"34-计算机1904-裘子乾.pdf\",\n",
    "    \"5-软件1804-金宇.doc\",\n",
    "    \"9-软件1701-刘浩.docx\",\n",
    "    \"14-大数据1902-梁垚.doc\",\n",
    "    \"15-人工智能2001-罗越.docx\"\n",
    "]\n",
    "\n",
    "\n",
    "# 自定义排序规则\n",
    "def rule_type(item: str):\n",
    "    # 请补全这里的代码\n",
    "    \n",
    "    \n",
    "\n",
    "# 执行排序\n",
    "fileList.sort(？？？)  # 请将sort中的内容填写完整\n",
    "```"
   ]
  },
  {
   "cell_type": "code",
   "execution_count": 42,
   "metadata": {},
   "outputs": [
    {
     "name": "stdout",
     "output_type": "stream",
     "text": [
      "['12-软件1802-吴奎.pdf', '4-软件1802-岑涛.pdf', '2-人工智能1902-孙奥.pdf', '34-计算机1904-裘子乾.pdf', '1-软件1801-杜文添.docx', '21-软件1903-马必争.docx', '7-计算机1902-高伟强.docx', '15-软件1803-陈源坤.docx', '9-软件1701-刘浩.docx', '15-人工智能2001-罗越.docx', '3-软件1801-刘子川.doc', '22-大数据2001-高孝强.doc', '5-软件1804-金宇.doc', '14-大数据1902-梁垚.doc']\n"
     ]
    }
   ],
   "source": [
    "fileList = [\n",
    "    \"3-软件1801-刘子川.doc\",\n",
    "    \"1-软件1801-杜文添.docx\",\n",
    "    \"12-软件1802-吴奎.pdf\",\n",
    "    \"4-软件1802-岑涛.pdf\",\n",
    "    \"21-软件1903-马必争.docx\",\n",
    "    \"22-大数据2001-高孝强.doc\",\n",
    "    \"7-计算机1902-高伟强.docx\",\n",
    "    \"15-软件1803-陈源坤.docx\",\n",
    "    \"2-人工智能1902-孙奥.pdf\",\n",
    "    \"34-计算机1904-裘子乾.pdf\",\n",
    "    \"5-软件1804-金宇.doc\",\n",
    "    \"9-软件1701-刘浩.docx\",\n",
    "    \"14-大数据1902-梁垚.doc\",\n",
    "    \"15-人工智能2001-罗越.docx\"\n",
    "]\n",
    "\n",
    "\n",
    "# 自定义排序规则\n",
    "def rule_type(item: str):\n",
    "    # 请补全这里的代码\n",
    "    # item形如：\"3-软件1801-刘子川.doc\"\n",
    "    \n",
    "    \n",
    "\n",
    "# 执行排序\n",
    "fileList.sort(key=rule_type, reverse=True)  # 请将sort中的内容填写完整\n",
    "\n",
    "# 查看结果\n",
    "print(fileList)"
   ]
  },
  {
   "cell_type": "code",
   "execution_count": 43,
   "metadata": {},
   "outputs": [
    {
     "name": "stdout",
     "output_type": "stream",
     "text": [
      "['12-软件1802-吴奎.pdf', '4-软件1802-岑涛.pdf', '2-人工智能1902-孙奥.pdf', '34-计算机1904-裘子乾.pdf', '1-软件1801-杜文添.docx', '21-软件1903-马必争.docx', '7-计算机1902-高伟强.docx', '15-软件1803-陈源坤.docx', '9-软件1701-刘浩.docx', '15-人工智能2001-罗越.docx', '3-软件1801-刘子川.doc', '22-大数据2001-高孝强.doc', '5-软件1804-金宇.doc', '14-大数据1902-梁垚.doc']\n"
     ]
    }
   ],
   "source": [
    "import os\n",
    "\n",
    "fileList = [\n",
    "    \"3-软件1801-刘子川.doc\",\n",
    "    \"1-软件1801-杜文添.docx\",\n",
    "    \"12-软件1802-吴奎.pdf\",\n",
    "    \"4-软件1802-岑涛.pdf\",\n",
    "    \"21-软件1903-马必争.docx\",\n",
    "    \"22-大数据2001-高孝强.doc\",\n",
    "    \"7-计算机1902-高伟强.docx\",\n",
    "    \"15-软件1803-陈源坤.docx\",\n",
    "    \"2-人工智能1902-孙奥.pdf\",\n",
    "    \"34-计算机1904-裘子乾.pdf\",\n",
    "    \"5-软件1804-金宇.doc\",\n",
    "    \"9-软件1701-刘浩.docx\",\n",
    "    \"14-大数据1902-梁垚.doc\",\n",
    "    \"15-人工智能2001-罗越.docx\"\n",
    "]\n",
    "\n",
    "\n",
    "# 自定义排序规则\n",
    "def rule_type(item: str):\n",
    "    # 请补全这里的代码\n",
    "    filetype = os.path.splitext()[1]\n",
    "    return filetype\n",
    "    \n",
    "\n",
    "# 执行排序\n",
    "fileList.sort(key=rule_type, reverse=True)  # 请将sort中的内容填写完整\n",
    "\n",
    "# 查看结果\n",
    "print(fileList)"
   ]
  },
  {
   "cell_type": "code",
   "execution_count": 30,
   "metadata": {},
   "outputs": [
    {
     "name": "stdout",
     "output_type": "stream",
     "text": [
      "['12-软件1802-吴奎.pdf', '4-软件1802-岑涛.pdf', '34-计算机1904-裘子乾.pdf', '2-人工智能1902-孙奥.pdf', '21-软件1903-马必争.docx', '15-软件1803-陈源坤.docx', '1-软件1801-杜文添.docx', '9-软件1701-刘浩.docx', '7-计算机1902-高伟强.docx', '15-人工智能2001-罗越.docx', '5-软件1804-金宇.doc', '3-软件1801-刘子川.doc', '22-大数据2001-高孝强.doc', '14-大数据1902-梁垚.doc']\n"
     ]
    }
   ],
   "source": [
    "# 参考答案\n",
    "# 自定义排序规则\n",
    "def rule_type(item: str):\n",
    "    # 请补全这里的代码\n",
    "    return item.split(\".\")[1]\n",
    "    \n",
    "\n",
    "# 执行排序\n",
    "fileList.sort(key=rule_type, reverse=True)  # 请将sort中的内容填写完整\n",
    "\n",
    "# 查看结果\n",
    "print(fileList)"
   ]
  },
  {
   "cell_type": "markdown",
   "metadata": {},
   "source": [
    "你学“废”了吗？我们在整理文档的时候，经常也会需要用到设定规则进行排序的操作哦，而且规则可能还不止一套，用上面这种方法就刚刚好。\n",
    "\n",
    "``By the way``\n",
    "\n",
    "C语言中的qsort()函数，C++中algorithm头文件里的sort()函数，都有类似的用法，排序的性能用的话也还说得过去（不过要是纠结算法的话，这些函数在有些情景下排序也会比较慢，没办法，没有一种单独的排序算法可以适用于所有情景~）\n",
    "\n",
    "***\n",
    "\n",
    "## 4 对字符串的常见操作\n",
    "\n",
    "在前面的培训中，我们已经讲过了字符串的一些常见操作，在刚才讲的1~3三个强调中，我们也很实际地用过一些例子来加以佐证，现在我把一些对字符串的常见操作列在下面，看大家是否还记得。\n",
    "\n",
    "* 格式化的字符串\n",
    "\n",
    "* 字符串拆分成列表\n",
    "\n",
    "* 列表合成字符串\n",
    "\n",
    "* 英文字母全部转大写\n",
    "\n",
    "* 英文字母全部转小写\n",
    "\n",
    "* 英文单词首字母大写\n",
    "\n",
    "* 字符串强制转换为数据类型变量\n",
    "\n",
    "* 数据类型的变量强制转换为字符串\n",
    "\n",
    "* 剥掉字符串两端的空字符或者指定剥掉两端的标记字符内容\n",
    "\n",
    "* 替换字符串中的指定内容\n",
    "\n",
    "上述操作，如果有不理解，我们在下面现场演示一下也可以。"
   ]
  },
  {
   "cell_type": "code",
   "execution_count": 1,
   "metadata": {},
   "outputs": [],
   "source": [
    "#字符串操作实验区\n"
   ]
  },
  {
   "cell_type": "markdown",
   "metadata": {},
   "source": [
    "## 5 对列表的常见操作\n",
    "\n"
   ]
  },
  {
   "cell_type": "markdown",
   "metadata": {},
   "source": [
    "* 创建列表，选中某一元素\n",
    "\n",
    "* 增、删、查、改\n",
    "\n",
    "* 切片操作（重要）\n",
    "\n",
    "* 遍历\n",
    "\n",
    "* 按条件提取（重要）\n",
    "\n",
    "* 排序\n",
    "\n",
    "* 字符串拆分成列表\n",
    "\n",
    "* 组合列表为字符串"
   ]
  },
  {
   "cell_type": "code",
   "execution_count": 4,
   "metadata": {},
   "outputs": [
    {
     "data": {
      "text/plain": [
       "['abc']"
      ]
     },
     "execution_count": 4,
     "metadata": {},
     "output_type": "execute_result"
    }
   ],
   "source": [
    "# 列表操作实验区，忘了哪里敲哪里\n"
   ]
  },
  {
   "cell_type": "code",
   "execution_count": null,
   "metadata": {},
   "outputs": [],
   "source": []
  }
 ],
 "metadata": {
  "kernelspec": {
   "display_name": "Python 3",
   "language": "python",
   "name": "python3"
  },
  "language_info": {
   "codemirror_mode": {
    "name": "ipython",
    "version": 3
   },
   "file_extension": ".py",
   "mimetype": "text/x-python",
   "name": "python",
   "nbconvert_exporter": "python",
   "pygments_lexer": "ipython3",
   "version": "3.8.7"
  }
 },
 "nbformat": 4,
 "nbformat_minor": 1
}